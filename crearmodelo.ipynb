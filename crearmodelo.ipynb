{
 "cells": [
  {
   "cell_type": "code",
   "execution_count": 1,
   "metadata": {},
   "outputs": [],
   "source": [
    "import tensorflow as tf\n",
    "from tensorflow.keras import layers, models\n",
    "\n",
    "from tensorflow.keras.datasets import mnist\n",
    "\n",
    "import numpy as np\n",
    "\n",
    "import matplotlib.pyplot as plt\n",
    "\n",
    "from PIL import Image"
   ]
  },
  {
   "cell_type": "code",
   "execution_count": 2,
   "metadata": {},
   "outputs": [
    {
     "name": "stderr",
     "output_type": "stream",
     "text": [
      "d:\\Inteligencia artifical\\taller1\\mpl_env\\Lib\\site-packages\\keras\\src\\layers\\core\\dense.py:87: UserWarning: Do not pass an `input_shape`/`input_dim` argument to a layer. When using Sequential models, prefer using an `Input(shape)` object as the first layer in the model instead.\n",
      "  super().__init__(activity_regularizer=activity_regularizer, **kwargs)\n"
     ]
    },
    {
     "name": "stdout",
     "output_type": "stream",
     "text": [
      "Epoch 1/10\n",
      "\u001b[1m375/375\u001b[0m \u001b[32m━━━━━━━━━━━━━━━━━━━━\u001b[0m\u001b[37m\u001b[0m \u001b[1m13s\u001b[0m 19ms/step - accuracy: 0.8583 - loss: 0.4887 - val_accuracy: 0.9590 - val_loss: 0.1319\n",
      "Epoch 2/10\n",
      "\u001b[1m375/375\u001b[0m \u001b[32m━━━━━━━━━━━━━━━━━━━━\u001b[0m\u001b[37m\u001b[0m \u001b[1m9s\u001b[0m 17ms/step - accuracy: 0.9696 - loss: 0.0999 - val_accuracy: 0.9679 - val_loss: 0.1017\n",
      "Epoch 3/10\n",
      "\u001b[1m375/375\u001b[0m \u001b[32m━━━━━━━━━━━━━━━━━━━━\u001b[0m\u001b[37m\u001b[0m \u001b[1m6s\u001b[0m 16ms/step - accuracy: 0.9825 - loss: 0.0589 - val_accuracy: 0.9749 - val_loss: 0.0855\n",
      "Epoch 4/10\n",
      "\u001b[1m375/375\u001b[0m \u001b[32m━━━━━━━━━━━━━━━━━━━━\u001b[0m\u001b[37m\u001b[0m \u001b[1m6s\u001b[0m 17ms/step - accuracy: 0.9876 - loss: 0.0386 - val_accuracy: 0.9717 - val_loss: 0.0994\n",
      "Epoch 5/10\n",
      "\u001b[1m375/375\u001b[0m \u001b[32m━━━━━━━━━━━━━━━━━━━━\u001b[0m\u001b[37m\u001b[0m \u001b[1m10s\u001b[0m 16ms/step - accuracy: 0.9905 - loss: 0.0297 - val_accuracy: 0.9773 - val_loss: 0.0874\n",
      "Epoch 6/10\n",
      "\u001b[1m375/375\u001b[0m \u001b[32m━━━━━━━━━━━━━━━━━━━━\u001b[0m\u001b[37m\u001b[0m \u001b[1m6s\u001b[0m 16ms/step - accuracy: 0.9914 - loss: 0.0240 - val_accuracy: 0.9786 - val_loss: 0.0834\n",
      "Epoch 7/10\n",
      "\u001b[1m375/375\u001b[0m \u001b[32m━━━━━━━━━━━━━━━━━━━━\u001b[0m\u001b[37m\u001b[0m \u001b[1m7s\u001b[0m 17ms/step - accuracy: 0.9945 - loss: 0.0165 - val_accuracy: 0.9772 - val_loss: 0.0959\n",
      "Epoch 8/10\n",
      "\u001b[1m375/375\u001b[0m \u001b[32m━━━━━━━━━━━━━━━━━━━━\u001b[0m\u001b[37m\u001b[0m \u001b[1m6s\u001b[0m 16ms/step - accuracy: 0.9942 - loss: 0.0165 - val_accuracy: 0.9762 - val_loss: 0.0948\n",
      "Epoch 9/10\n",
      "\u001b[1m375/375\u001b[0m \u001b[32m━━━━━━━━━━━━━━━━━━━━\u001b[0m\u001b[37m\u001b[0m \u001b[1m6s\u001b[0m 17ms/step - accuracy: 0.9948 - loss: 0.0144 - val_accuracy: 0.9768 - val_loss: 0.1018\n",
      "Epoch 10/10\n",
      "\u001b[1m375/375\u001b[0m \u001b[32m━━━━━━━━━━━━━━━━━━━━\u001b[0m\u001b[37m\u001b[0m \u001b[1m6s\u001b[0m 17ms/step - accuracy: 0.9948 - loss: 0.0148 - val_accuracy: 0.9788 - val_loss: 0.0938\n",
      "\u001b[1m313/313\u001b[0m \u001b[32m━━━━━━━━━━━━━━━━━━━━\u001b[0m\u001b[37m\u001b[0m \u001b[1m2s\u001b[0m 6ms/step - accuracy: 0.9763 - loss: 0.0962\n"
     ]
    },
    {
     "name": "stderr",
     "output_type": "stream",
     "text": [
      "WARNING:absl:You are saving your model as an HDF5 file via `model.save()` or `keras.saving.save_model(model)`. This file format is considered legacy. We recommend using instead the native Keras format, e.g. `model.save('my_model.keras')` or `keras.saving.save_model(model, 'my_model.keras')`. \n"
     ]
    },
    {
     "name": "stdout",
     "output_type": "stream",
     "text": [
      "Precisión en el conjunto de prueba: 0.980400025844574\n",
      "modelo guardado\n"
     ]
    }
   ],
   "source": [
    "# Paso 2: Cargar el conjunto de datos MNIST\n",
    "\n",
    "(x_train, y_train), (x_test, y_test) = mnist.load_data()\n",
    "# Paso 3: Preprocesar los datos\n",
    "\n",
    "x_train = x_train.astype('float32') / 255  # Normalización\n",
    "\n",
    "x_test = x_test.astype('float32') / 255\n",
    "\n",
    "x_train = x_train.reshape(-1, 28 * 28)     # Aplanar las imágenes\n",
    "\n",
    "x_test = x_test.reshape(-1, 28 * 28)\n",
    "y_train = tf.keras.utils.to_categorical(y_train, 10)  # One-hot encoding\n",
    "\n",
    "y_test = tf.keras.utils.to_categorical(y_test, 10)\n",
    "# Paso 4: Definir el modelo MLP\n",
    "\n",
    "model = models.Sequential()\n",
    "\n",
    "model.add(layers.Dense(512, activation='relu', input_shape=(28 * 28,)))\n",
    "\n",
    "model.add(layers.Dense(256, activation='relu'))\n",
    "\n",
    "model.add(layers.Dense(128, activation='relu'))\n",
    "\n",
    "model.add(layers.Dense(10, activation='softmax'))  # 10 clases de salida\n",
    "# Paso 5: Compilar el modelo\n",
    "\n",
    "model.compile(optimizer='adam',\n",
    "\n",
    "              loss='categorical_crossentropy',\n",
    "\n",
    "              metrics=['accuracy'])\n",
    "\n",
    "# Paso 6: Entrenar el modelo\n",
    "\n",
    "history = model.fit(x_train, y_train, epochs=10, batch_size=128, validation_split=0.2)\n",
    "\n",
    "# Paso 7: Evaluar el modelo\n",
    "\n",
    "test_loss, test_acc = model.evaluate(x_test, y_test)\n",
    "print(f'Precisión en el conjunto de prueba: {test_acc}')\n",
    "\n",
    "# guardar el modelo\n",
    "model.save('mpl_model.h5') #guardar como archivo HDF5\n",
    "print (\"modelo guardado\")"
   ]
  }
 ],
 "metadata": {
  "kernelspec": {
   "display_name": "mpl_env",
   "language": "python",
   "name": "python3"
  },
  "language_info": {
   "codemirror_mode": {
    "name": "ipython",
    "version": 3
   },
   "file_extension": ".py",
   "mimetype": "text/x-python",
   "name": "python",
   "nbconvert_exporter": "python",
   "pygments_lexer": "ipython3",
   "version": "3.12.4"
  }
 },
 "nbformat": 4,
 "nbformat_minor": 2
}
